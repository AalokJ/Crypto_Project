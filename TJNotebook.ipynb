{
 "cells": [
  {
   "cell_type": "code",
   "execution_count": 71,
   "metadata": {},
   "outputs": [],
   "source": [
    "import pandas as pd\n",
    "import numpy as np\n",
    "import datetime\n",
    "import statsmodels.tsa.api as tsa\n",
    "from statsmodels.tsa.stattools import adfuller, acf, pacf\n",
    "from statsmodels.tsa.holtwinters import ExponentialSmoothing, Holt\n",
    "import matplotlib.pyplot as plt\n",
    "from statsmodels.tsa.arima_process import ArmaProcess\n",
    "from statsmodels.stats.diagnostic import acorr_ljungbox\n",
    "from statsmodels.tsa.statespace.sarimax import SARIMAX\n",
    "from statsmodels.tsa.seasonal import STL\n",
    "from pandas.plotting import register_matplotlib_converters\n",
    "from scipy.stats import boxcox\n",
    "import warnings\n",
    "warnings.filterwarnings('ignore')\n",
    "\n",
    "from statsmodels.graphics.tsaplots import plot_pacf\n",
    "from statsmodels.graphics.tsaplots import plot_acf\n",
    "\n",
    "from statsmodels.tsa.arima_model import ARMA, ARIMA\n",
    "import statsmodels.api as sm\n",
    "\n",
    "%matplotlib inline"
   ]
  },
  {
   "cell_type": "code",
   "execution_count": 58,
   "metadata": {},
   "outputs": [],
   "source": [
    "def get_data(coin = 'bitcoin', year = 2017):\n",
    "    \n",
    "    df = pd.read_csv(f'./data/{coin}_{year}.csv')\n",
    "    df['timestamp'] = pd.to_datetime(df['timestamp'], unit = 's')\n",
    "    df.set_index('timestamp', inplace = True)\n",
    "    df.sort_index(inplace = True)\n",
    "    df = df[['Count','Open','High','Low','Close','Volume','VWAP','Target']]\n",
    "    \n",
    "    return df"
   ]
  },
  {
   "cell_type": "code",
   "execution_count": 59,
   "metadata": {},
   "outputs": [],
   "source": [
    "btc2017 = get_data()\n",
    "btc2018 = get_data('bitcoin', 2018)\n",
    "btc2019 = get_data('bitcoin', 2019)\n",
    "btc2020 = get_data('bitcoin', 2020)\n",
    "btc2021 = get_data('bitcoin', 2021)"
   ]
  },
  {
   "cell_type": "code",
   "execution_count": 60,
   "metadata": {},
   "outputs": [],
   "source": [
    "btc = pd.concat([btc2017, btc2018, btc2019, btc2020, btc2021], axis = 0)"
   ]
  },
  {
   "cell_type": "code",
   "execution_count": 8,
   "metadata": {},
   "outputs": [],
   "source": [
    "def resample(df, time_period = '1D'):\n",
    "    df = df.resample(time_period).first()\n",
    "    return df"
   ]
  },
  {
   "cell_type": "code",
   "execution_count": 92,
   "metadata": {},
   "outputs": [],
   "source": [
    "def add_cols(df, momentum = 7, volatility = 30, sma = 50):\n",
    "    \n",
    "    df['diff'] = df['Close'] - df['Close'].shift(1)\n",
    "    df['log_close'] = np.log(df['Close'])\n",
    "    df['log_diff'] = df['log_close'] - df['log_close'].shift(1)\n",
    "    df['log_return'] = df['log_close']/(df['log_close'].shift(1))\n",
    "    df['direction'] = np.where(df['log_return'] > 0, 1, 0)\n",
    "    df['momentum'] = df['log_return'].rolling(momentum).mean().shift(1)\n",
    "    df['volatility'] = df['log_return'].rolling(volatility).std().shift(1)\n",
    "    df['sma_7'] = df['Close'].rolling(7).mean()\n",
    "    df['sma_50'] = df['Close'].rolling(50).mean()\n",
    "    df['sma_200'] = df['Close'].rolling(200).mean()\n",
    "    sma_distance = f'sma_{sma}'\n",
    "    df[sma_distance] = (df['Close'] - df['Close'].rolling(sma).mean()).shift(1)\n",
    "    df['log_sqrt_close'] = np.sqrt(df['log_close'])\n",
    "    \n",
    "    df = df[df['Close'].notna()]\n",
    "    \n",
    "    return df"
   ]
  },
  {
   "cell_type": "code",
   "execution_count": 93,
   "metadata": {},
   "outputs": [],
   "source": [
    "daily = resample(btc)\n",
    "weekly = resample(btc, '1W')\n",
    "monthly = resample(btc, '1M')"
   ]
  },
  {
   "cell_type": "code",
   "execution_count": 94,
   "metadata": {},
   "outputs": [],
   "source": [
    "daily = add_cols(daily)\n",
    "weekly = add_cols(weekly, momentum = 1, volatility = 4, sma = 7)"
   ]
  },
  {
   "cell_type": "code",
   "execution_count": null,
   "metadata": {},
   "outputs": [],
   "source": []
  },
  {
   "cell_type": "code",
   "execution_count": null,
   "metadata": {},
   "outputs": [],
   "source": []
  },
  {
   "cell_type": "code",
   "execution_count": 12,
   "metadata": {},
   "outputs": [
    {
     "data": {
      "text/plain": [
       "(-0.7092902944889851,\n",
       " 0.8443284440283875,\n",
       " 2,\n",
       " 1574,\n",
       " {'1%': -3.434511370146751,\n",
       "  '5%': -2.8633779962665122,\n",
       "  '10%': -2.567748516280279},\n",
       " -5273.191332114597)"
      ]
     },
     "execution_count": 12,
     "metadata": {},
     "output_type": "execute_result"
    }
   ],
   "source": [
    "p_log_sqrt_close = adfuller(daily['log_sqrt_close'])[1]\n",
    "p_log_sqrt_close\n",
    "\n",
    "p2 = adfuller(daily['Close'])[1]\n",
    "p2\n",
    "\n",
    "p3 = adfuller(daily['log_diff'].dropna())\n",
    "p3\n",
    "\n",
    "p4 = adfuller(daily['log_return'].dropna())\n",
    "p4\n",
    "\n",
    "p5 = adfuller(daily['log_close'])\n",
    "p5"
   ]
  },
  {
   "cell_type": "code",
   "execution_count": 13,
   "metadata": {},
   "outputs": [],
   "source": [
    "def create_lags(df, col = 'log_close', lags = 7):\n",
    "    \n",
    "    for i in range(1, lags+1):\n",
    "        col_name = f'lag_{i}'\n",
    "        df[col_name] = df['log_close'].shift(i)\n",
    "    df.dropna(inplace = True)\n",
    "        \n",
    "    return df"
   ]
  },
  {
   "cell_type": "code",
   "execution_count": 14,
   "metadata": {},
   "outputs": [
    {
     "data": {
      "text/plain": [
       "(-0.7228758168961888,\n",
       " 0.8407348775316157,\n",
       " 2,\n",
       " 1574,\n",
       " {'1%': -3.434511370146751,\n",
       "  '5%': -2.8633779962665122,\n",
       "  '10%': -2.567748516280279},\n",
       " -5454.266950754698)"
      ]
     },
     "execution_count": 14,
     "metadata": {},
     "output_type": "execute_result"
    }
   ],
   "source": [
    "adf_tests = []\n",
    "fit = Holt(daily['log_close'].dropna(), exponential = False).fit(use_brute = True)\n",
    "a = fit.fittedvalues\n",
    "adfuller(a)"
   ]
  },
  {
   "cell_type": "code",
   "execution_count": 15,
   "metadata": {},
   "outputs": [
    {
     "data": {
      "image/png": "[encoded data removed]",
      "text/plain": [
       "<Figure size 432x288 with 1 Axes>"
      ]
     },
     "metadata": {
      "needs_background": "light"
     },
     "output_type": "display_data"
    },
    {
     "data": {
      "image/png": "[encoded data removed]",
      "text/plain": [
       "<Figure size 432x288 with 1 Axes>"
      ]
     },
     "metadata": {
      "needs_background": "light"
     },
     "output_type": "display_data"
    }
   ],
   "source": [
    "plot_pacf(a);\n",
    "plot_acf(a);"
   ]
  },
  {
   "cell_type": "code",
   "execution_count": 16,
   "metadata": {},
   "outputs": [],
   "source": [
    "def simple_moving_average(df, windows = [7,50,200]):\n",
    "    for i in windows:\n",
    "        col = f'sma_{i}'\n",
    "        df[col] = df['Close'].rolling(i, min_periods = int(i*.75)).mean()\n",
    "        df[col].plot(figsize = (40,10), legend = True, subplots = False)\n",
    "    \n",
    "    df['Close'].plot(legend = True);\n",
    "    return df"
   ]
  },
  {
   "cell_type": "code",
   "execution_count": null,
   "metadata": {},
   "outputs": [],
   "source": []
  },
  {
   "cell_type": "code",
   "execution_count": 17,
   "metadata": {},
   "outputs": [],
   "source": [
    "def decomposition_plot(df):\n",
    "        '''Takes time series dataframe and decompose it in order to observe trend, seasonality, and residuals'''\n",
    "        decomposition = tsa.seasonal_decompose(df, period = 1, model = 'multiplicative', freq = 7)\n",
    "        trend = decomposition.trend\n",
    "        seasonal = decomposition.seasonal\n",
    "        residual = decomposition.resid\n",
    "        plt.figure(figsize=(10,7))\n",
    "        plt.subplot(511)\n",
    "        plt.plot(ts, label='Original', color='red')\n",
    "        plt.legend(loc='best')\n",
    "        plt.subplot(512)\n",
    "        plt.plot(trend, label='Trend', color='blue')\n",
    "        plt.legend(loc='best')\n",
    "        plt.subplot(513)\n",
    "        plt.plot(seasonal,label='Seasonality', color='orange')\n",
    "        plt.legend(loc='best')\n",
    "        plt.subplot(514)\n",
    "        plt.plot(residual, label='Residuals', color='black')\n",
    "        plt.legend(loc='best')\n",
    "        plt.tight_layout()"
   ]
  },
  {
   "cell_type": "code",
   "execution_count": 47,
   "metadata": {},
   "outputs": [],
   "source": [
    "### Seasonal Decomposition\n",
    "def seasonal_decomposition(df):\n",
    "    periods = [1,3,7,30,50,365]\n",
    "    model = ['multiplicative', 'additive']\n",
    "\n",
    "    combinations = []\n",
    "    for x in periods:\n",
    "        for y in model:\n",
    "            combinations.append((x,y))\n",
    "    \n",
    "    adfullercombinations = []\n",
    "\n",
    "    for i in combinations:\n",
    "        components = tsa.seasonal_decompose(df, period = i[0], model = i[1])\n",
    "        trend = components.trend\n",
    "        seasonal = components.seasonal\n",
    "        residual = components.resid\n",
    "        observed = components.observed\n",
    "        x = adfuller(residual.dropna())\n",
    "        if x[1] < .05:\n",
    "            adfullercombinations.append([i,x])\n",
    "    \n",
    "    return adfullercombinations"
   ]
  },
  {
   "cell_type": "code",
   "execution_count": 66,
   "metadata": {},
   "outputs": [],
   "source": [
    "combs = best_combinations(daily['Close'])"
   ]
  },
  {
   "cell_type": "code",
   "execution_count": 95,
   "metadata": {},
   "outputs": [
    {
     "data": {
      "image/png": "[encoded data removed]",
      "text/plain": [
       "<Figure size 432x288 with 4 Axes>"
      ]
     },
     "execution_count": 95,
     "metadata": {},
     "output_type": "execute_result"
    },
    {
     "data": {
      "image/png": "[encoded data removed]",
      "text/plain": [
       "<Figure size 432x288 with 4 Axes>"
      ]
     },
     "metadata": {
      "needs_background": "light"
     },
     "output_type": "display_data"
    }
   ],
   "source": [
    "res = STL(daily['log_return'], period = 3, seasonal_deg = 0, robust = True).fit()\n",
    "res.plot()"
   ]
  },
  {
   "cell_type": "code",
   "execution_count": 97,
   "metadata": {},
   "outputs": [
    {
     "data": {
      "text/plain": [
       "(-27.499172984220415,\n",
       " 0.0,\n",
       " 1,\n",
       " 1573,\n",
       " {'1%': -3.4345140199818918,\n",
       "  '5%': -2.8633791658322503,\n",
       "  '10%': -2.567749139071643},\n",
       " -12384.634455776197)"
      ]
     },
     "execution_count": 97,
     "metadata": {},
     "output_type": "execute_result"
    }
   ],
   "source": [
    "x, _ = boxcox(daily['log_return'].dropna())\n",
    "adfuller(x)"
   ]
  },
  {
   "cell_type": "code",
   "execution_count": 98,
   "metadata": {},
   "outputs": [
    {
     "data": {
      "image/png": "[encoded data removed]",
      "text/plain": [
       "<Figure size 432x288 with 1 Axes>"
      ]
     },
     "metadata": {
      "needs_background": "light"
     },
     "output_type": "display_data"
    },
    {
     "data": {
      "image/png": "[encoded data removed]",
      "text/plain": [
       "<Figure size 432x288 with 1 Axes>"
      ]
     },
     "metadata": {
      "needs_background": "light"
     },
     "output_type": "display_data"
    },
    {
     "data": {
      "image/png": "[encoded data removed]",
      "text/plain": [
       "<Figure size 432x288 with 1 Axes>"
      ]
     },
     "metadata": {
      "needs_background": "light"
     },
     "output_type": "display_data"
    },
    {
     "data": {
      "image/png": "[encoded data removed]",
      "text/plain": [
       "<Figure size 432x288 with 1 Axes>"
      ]
     },
     "metadata": {
      "needs_background": "light"
     },
     "output_type": "display_data"
    },
    {
     "data": {
      "image/png": "[encoded data removed]",
      "text/plain": [
       "<Figure size 432x288 with 1 Axes>"
      ]
     },
     "metadata": {
      "needs_background": "light"
     },
     "output_type": "display_data"
    },
    {
     "data": {
      "image/png": "[encoded data removed]",
      "text/plain": [
       "<Figure size 432x288 with 1 Axes>"
      ]
     },
     "metadata": {
      "needs_background": "light"
     },
     "output_type": "display_data"
    },
    {
     "data": {
      "image/png": "[encoded data removed]",
      "text/plain": [
       "<Figure size 432x288 with 1 Axes>"
      ]
     },
     "metadata": {
      "needs_background": "light"
     },
     "output_type": "display_data"
    },
    {
     "data": {
      "image/png": "[encoded data removed]",
      "text/plain": [
       "<Figure size 432x288 with 1 Axes>"
      ]
     },
     "metadata": {
      "needs_background": "light"
     },
     "output_type": "display_data"
    }
   ],
   "source": [
    "plot_pacf(daily['log_return'],lags = 50);\n",
    "plot_acf(daily['log_return'], lags = 50);\n",
    "\n",
    "plot_pacf(daily['log_return']);\n",
    "plot_acf(daily['log_return']);\n",
    "\n",
    "plot_pacf(daily['log_diff']);\n",
    "plot_acf(daily['log_diff']);\n",
    "\n",
    "plot_pacf(daily['log_return'], lags = 50);\n",
    "plot_acf(daily['log_return'], lags = 50);"
   ]
  },
  {
   "cell_type": "code",
   "execution_count": 22,
   "metadata": {},
   "outputs": [],
   "source": [
    "mod_arma = ARMA(a, order=(1,0))"
   ]
  },
  {
   "cell_type": "code",
   "execution_count": 23,
   "metadata": {},
   "outputs": [],
   "source": [
    "res_arma = mod_arma.fit()"
   ]
  },
  {
   "cell_type": "code",
   "execution_count": 24,
   "metadata": {},
   "outputs": [
    {
     "name": "stdout",
     "output_type": "stream",
     "text": [
      "                              ARMA Model Results                              \n",
      "==============================================================================\n",
      "Dep. Variable:                      y   No. Observations:                 1577\n",
      "Model:                     ARMA(1, 0)   Log Likelihood                2770.382\n",
      "Method:                       css-mle   S.D. of innovations              0.042\n",
      "Date:                Tue, 04 Jan 2022   AIC                          -5534.765\n",
      "Time:                        00:08:36   BIC                          -5518.675\n",
      "Sample:                             0   HQIC                         -5528.786\n",
      "                                                                              \n",
      "==============================================================================\n",
      "                 coef    std err          z      P>|z|      [0.025      0.975]\n",
      "------------------------------------------------------------------------------\n",
      "const          9.4796      0.785     12.077      0.000       7.941      11.018\n",
      "ar.L1.y        0.9992      0.001   1152.883      0.000       0.997       1.001\n",
      "                                    Roots                                    \n",
      "=============================================================================\n",
      "                  Real          Imaginary           Modulus         Frequency\n",
      "-----------------------------------------------------------------------------\n",
      "AR.1            1.0008           +0.0000j            1.0008            0.0000\n",
      "-----------------------------------------------------------------------------\n"
     ]
    }
   ],
   "source": [
    "print(res_arma.summary())"
   ]
  },
  {
   "cell_type": "code",
   "execution_count": 25,
   "metadata": {},
   "outputs": [
    {
     "name": "stdout",
     "output_type": "stream",
     "text": [
      "                              ARMA Model Results                              \n",
      "==============================================================================\n",
      "Dep. Variable:                      y   No. Observations:                 1577\n",
      "Model:                     ARMA(0, 1)   Log Likelihood                -915.321\n",
      "Method:                       css-mle   S.D. of innovations              0.432\n",
      "Date:                Tue, 04 Jan 2022   AIC                           1836.643\n",
      "Time:                        00:08:37   BIC                           1852.732\n",
      "Sample:                             0   HQIC                          1842.622\n",
      "                                                                              \n",
      "==============================================================================\n",
      "                 coef    std err          z      P>|z|      [0.025      0.975]\n",
      "------------------------------------------------------------------------------\n",
      "const          9.3625      0.021    437.319      0.000       9.321       9.405\n",
      "ma.L1.y        0.9688      0.005    198.079      0.000       0.959       0.978\n",
      "                                    Roots                                    \n",
      "=============================================================================\n",
      "                  Real          Imaginary           Modulus         Frequency\n",
      "-----------------------------------------------------------------------------\n",
      "MA.1           -1.0322           +0.0000j            1.0322            0.5000\n",
      "-----------------------------------------------------------------------------\n"
     ]
    }
   ],
   "source": [
    "mod2_arma = ARMA(a, order=(0,1))\n",
    "res2_arma = mod2_arma.fit()\n",
    "print(res2_arma.summary())"
   ]
  },
  {
   "cell_type": "code",
   "execution_count": null,
   "metadata": {},
   "outputs": [],
   "source": []
  },
  {
   "cell_type": "code",
   "execution_count": 99,
   "metadata": {},
   "outputs": [],
   "source": [
    "#p: The number of lag observations included in the model, also called the lag order.\n",
    "#d: The number of times that the raw observations are differenced, also called the degree of differencing.\n",
    "#q: The size of the moving average window, also called the order of moving average."
   ]
  },
  {
   "cell_type": "code",
   "execution_count": 101,
   "metadata": {},
   "outputs": [
    {
     "data": {
      "text/html": [
       "<table class=\"simpletable\">\n",
       "<caption>ARIMA Model Results</caption>\n",
       "<tr>\n",
       "  <th>Dep. Variable:</th>        <td>D.y</td>       <th>  No. Observations:  </th>    <td>1574</td>   \n",
       "</tr>\n",
       "<tr>\n",
       "  <th>Model:</th>          <td>ARIMA(0, 1, 1)</td>  <th>  Log Likelihood     </th>  <td>6279.364</td> \n",
       "</tr>\n",
       "<tr>\n",
       "  <th>Method:</th>             <td>css-mle</td>     <th>  S.D. of innovations</th>    <td>0.004</td>  \n",
       "</tr>\n",
       "<tr>\n",
       "  <th>Date:</th>          <td>Tue, 04 Jan 2022</td> <th>  AIC                </th> <td>-12552.728</td>\n",
       "</tr>\n",
       "<tr>\n",
       "  <th>Time:</th>              <td>10:17:47</td>     <th>  BIC                </th> <td>-12536.644</td>\n",
       "</tr>\n",
       "<tr>\n",
       "  <th>Sample:</th>                <td>1</td>        <th>  HQIC               </th> <td>-12546.751</td>\n",
       "</tr>\n",
       "<tr>\n",
       "  <th></th>                       <td> </td>        <th>                     </th>      <td> </td>    \n",
       "</tr>\n",
       "</table>\n",
       "<table class=\"simpletable\">\n",
       "<tr>\n",
       "      <td></td>         <th>coef</th>     <th>std err</th>      <th>z</th>      <th>P>|z|</th>  <th>[0.025</th>    <th>0.975]</th>  \n",
       "</tr>\n",
       "<tr>\n",
       "  <th>const</th>     <td> 8.337e-08</td> <td> 2.48e-07</td> <td>    0.337</td> <td> 0.736</td> <td>-4.02e-07</td> <td> 5.69e-07</td>\n",
       "</tr>\n",
       "<tr>\n",
       "  <th>ma.L1.D.y</th> <td>   -1.0000</td> <td>    0.002</td> <td> -480.883</td> <td> 0.000</td> <td>   -1.004</td> <td>   -0.996</td>\n",
       "</tr>\n",
       "</table>\n",
       "<table class=\"simpletable\">\n",
       "<caption>Roots</caption>\n",
       "<tr>\n",
       "    <td></td>   <th>            Real</th>  <th>         Imaginary</th> <th>         Modulus</th>  <th>        Frequency</th>\n",
       "</tr>\n",
       "<tr>\n",
       "  <th>MA.1</th> <td>           1.0000</td> <td>          +0.0000j</td> <td>           1.0000</td> <td>           0.0000</td>\n",
       "</tr>\n",
       "</table>"
      ],
      "text/plain": [
       "<class 'statsmodels.iolib.summary.Summary'>\n",
       "\"\"\"\n",
       "                             ARIMA Model Results                              \n",
       "==============================================================================\n",
       "Dep. Variable:                    D.y   No. Observations:                 1574\n",
       "Model:                 ARIMA(0, 1, 1)   Log Likelihood                6279.364\n",
       "Method:                       css-mle   S.D. of innovations              0.004\n",
       "Date:                Tue, 04 Jan 2022   AIC                         -12552.728\n",
       "Time:                        10:17:47   BIC                         -12536.644\n",
       "Sample:                             1   HQIC                        -12546.751\n",
       "                                                                              \n",
       "==============================================================================\n",
       "                 coef    std err          z      P>|z|      [0.025      0.975]\n",
       "------------------------------------------------------------------------------\n",
       "const       8.337e-08   2.48e-07      0.337      0.736   -4.02e-07    5.69e-07\n",
       "ma.L1.D.y     -1.0000      0.002   -480.883      0.000      -1.004      -0.996\n",
       "                                    Roots                                    \n",
       "=============================================================================\n",
       "                  Real          Imaginary           Modulus         Frequency\n",
       "-----------------------------------------------------------------------------\n",
       "MA.1            1.0000           +0.0000j            1.0000            0.0000\n",
       "-----------------------------------------------------------------------------\n",
       "\"\"\""
      ]
     },
     "execution_count": 101,
     "metadata": {},
     "output_type": "execute_result"
    }
   ],
   "source": [
    "model = ARIMA(x, order=(0,1,1))\n",
    "model2 = model.fit()\n",
    "model2.summary()"
   ]
  },
  {
   "cell_type": "code",
   "execution_count": 121,
   "metadata": {},
   "outputs": [
    {
     "name": "stdout",
     "output_type": "stream",
     "text": [
      "log_return    1515\n",
      "volatility    1515\n",
      "momentum      1515\n",
      "dtype: int64\n"
     ]
    }
   ],
   "source": [
    "r = daily[['log_return','volatility', 'momentum']].dropna()\n",
    "print(r.notnull().sum())\n",
    "x = r['log_return']\n",
    "y = r['volatility']\n",
    "z = r['momentum']"
   ]
  },
  {
   "cell_type": "code",
   "execution_count": 138,
   "metadata": {},
   "outputs": [
    {
     "data": {
      "text/html": [
       "<table class=\"simpletable\">\n",
       "<caption>ARMA Model Results</caption>\n",
       "<tr>\n",
       "  <th>Dep. Variable:</th>    <td>log_return</td>    <th>  No. Observations:  </th>    <td>1515</td>   \n",
       "</tr>\n",
       "<tr>\n",
       "  <th>Model:</th>            <td>ARMA(1, 1)</td>    <th>  Log Likelihood     </th>  <td>6073.626</td> \n",
       "</tr>\n",
       "<tr>\n",
       "  <th>Method:</th>             <td>css-mle</td>     <th>  S.D. of innovations</th>    <td>0.004</td>  \n",
       "</tr>\n",
       "<tr>\n",
       "  <th>Date:</th>          <td>Tue, 04 Jan 2022</td> <th>  AIC                </th> <td>-12139.253</td>\n",
       "</tr>\n",
       "<tr>\n",
       "  <th>Time:</th>              <td>10:37:25</td>     <th>  BIC                </th> <td>-12117.960</td>\n",
       "</tr>\n",
       "<tr>\n",
       "  <th>Sample:</th>                <td>0</td>        <th>  HQIC               </th> <td>-12131.325</td>\n",
       "</tr>\n",
       "<tr>\n",
       "  <th></th>                       <td> </td>        <th>                     </th>      <td> </td>    \n",
       "</tr>\n",
       "</table>\n",
       "<table class=\"simpletable\">\n",
       "<tr>\n",
       "          <td></td>            <th>coef</th>     <th>std err</th>      <th>z</th>      <th>P>|z|</th>  <th>[0.025</th>    <th>0.975]</th>  \n",
       "</tr>\n",
       "<tr>\n",
       "  <th>const</th>            <td>    1.0002</td> <td>    0.000</td> <td> 9279.020</td> <td> 0.000</td> <td>    1.000</td> <td>    1.000</td>\n",
       "</tr>\n",
       "<tr>\n",
       "  <th>ar.L1.log_return</th> <td>   -0.6302</td> <td>    0.179</td> <td>   -3.529</td> <td> 0.000</td> <td>   -0.980</td> <td>   -0.280</td>\n",
       "</tr>\n",
       "<tr>\n",
       "  <th>ma.L1.log_return</th> <td>    0.5572</td> <td>    0.191</td> <td>    2.918</td> <td> 0.004</td> <td>    0.183</td> <td>    0.932</td>\n",
       "</tr>\n",
       "</table>\n",
       "<table class=\"simpletable\">\n",
       "<caption>Roots</caption>\n",
       "<tr>\n",
       "    <td></td>   <th>            Real</th>  <th>         Imaginary</th> <th>         Modulus</th>  <th>        Frequency</th>\n",
       "</tr>\n",
       "<tr>\n",
       "  <th>AR.1</th> <td>          -1.5867</td> <td>          +0.0000j</td> <td>           1.5867</td> <td>           0.5000</td>\n",
       "</tr>\n",
       "<tr>\n",
       "  <th>MA.1</th> <td>          -1.7947</td> <td>          +0.0000j</td> <td>           1.7947</td> <td>           0.5000</td>\n",
       "</tr>\n",
       "</table>"
      ],
      "text/plain": [
       "<class 'statsmodels.iolib.summary.Summary'>\n",
       "\"\"\"\n",
       "                              ARMA Model Results                              \n",
       "==============================================================================\n",
       "Dep. Variable:             log_return   No. Observations:                 1515\n",
       "Model:                     ARMA(1, 1)   Log Likelihood                6073.626\n",
       "Method:                       css-mle   S.D. of innovations              0.004\n",
       "Date:                Tue, 04 Jan 2022   AIC                         -12139.253\n",
       "Time:                        10:37:25   BIC                         -12117.960\n",
       "Sample:                             0   HQIC                        -12131.325\n",
       "                                                                              \n",
       "====================================================================================\n",
       "                       coef    std err          z      P>|z|      [0.025      0.975]\n",
       "------------------------------------------------------------------------------------\n",
       "const                1.0002      0.000   9279.020      0.000       1.000       1.000\n",
       "ar.L1.log_return    -0.6302      0.179     -3.529      0.000      -0.980      -0.280\n",
       "ma.L1.log_return     0.5572      0.191      2.918      0.004       0.183       0.932\n",
       "                                    Roots                                    \n",
       "=============================================================================\n",
       "                  Real          Imaginary           Modulus         Frequency\n",
       "-----------------------------------------------------------------------------\n",
       "AR.1           -1.5867           +0.0000j            1.5867            0.5000\n",
       "MA.1           -1.7947           +0.0000j            1.7947            0.5000\n",
       "-----------------------------------------------------------------------------\n",
       "\"\"\""
      ]
     },
     "execution_count": 138,
     "metadata": {},
     "output_type": "execute_result"
    }
   ],
   "source": [
    "model = ARIMA(x, order =(1,0,1))\n",
    "model.fit().summary()"
   ]
  },
  {
   "cell_type": "code",
   "execution_count": 141,
   "metadata": {},
   "outputs": [],
   "source": [
    "x = list(range(11))"
   ]
  },
  {
   "cell_type": "code",
   "execution_count": 142,
   "metadata": {},
   "outputs": [
    {
     "ename": "TypeError",
     "evalue": "can only concatenate list (not \"int\") to list",
     "output_type": "error",
     "traceback": [
      "\u001b[1;31m---------------------------------------------------------------------------\u001b[0m",
      "\u001b[1;31mTypeError\u001b[0m                                 Traceback (most recent call last)",
      "\u001b[1;32m<ipython-input-142-da2b8556d113>\u001b[0m in \u001b[0;36m<module>\u001b[1;34m\u001b[0m\n\u001b[1;32m----> 1\u001b[1;33m \u001b[0mx\u001b[0m\u001b[1;33m+\u001b[0m\u001b[1;36m1\u001b[0m\u001b[1;33m\u001b[0m\u001b[1;33m\u001b[0m\u001b[0m\n\u001b[0m",
      "\u001b[1;31mTypeError\u001b[0m: can only concatenate list (not \"int\") to list"
     ]
    }
   ],
   "source": []
  },
  {
   "cell_type": "code",
   "execution_count": null,
   "metadata": {},
   "outputs": [],
   "source": []
  }
 ],
 "metadata": {
  "kernelspec": {
   "display_name": "Python 3",
   "language": "python",
   "name": "python3"
  },
  "language_info": {
   "codemirror_mode": {
    "name": "ipython",
    "version": 3
   },
   "file_extension": ".py",
   "mimetype": "text/x-python",
   "name": "python",
   "nbconvert_exporter": "python",
   "pygments_lexer": "ipython3",
   "version": "3.8.5"
  }
 },
 "nbformat": 4,
 "nbformat_minor": 4
}
