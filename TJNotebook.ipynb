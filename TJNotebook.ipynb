{
 "cells": [
  {
   "cell_type": "code",
   "execution_count": 2,
   "metadata": {},
   "outputs": [],
   "source": [
    "import pandas as pd\n",
    "import numpy as np\n",
    "import datetime\n",
    "import statsmodels.tsa.api as tsa\n",
    "from statsmodels.tsa.stattools import adfuller, acf, pacf\n",
    "from statsmodels.tsa.holtwinters import ExponentialSmoothing\n",
    "import matplotlib.pyplot as plt\n",
    "from statsmodels.tsa.arima_process import ArmaProcess\n",
    "from statsmodels.stats.diagnostic import acorr_ljungbox\n",
    "from statsmodels.tsa.statespace.sarimax import SARIMAX\n",
    "\n",
    "import warnings\n",
    "warnings.filterwarnings('ignore')\n",
    "\n",
    "from statsmodels.graphics.tsaplots import plot_pacf\n",
    "from statsmodels.graphics.tsaplots import plot_acf\n",
    "\n",
    "from statsmodels.tsa.arima_model import ARMA, ARIMA\n",
    "import statsmodels.api as sm\n",
    "\n",
    "%matplotlib inline"
   ]
  },
  {
   "cell_type": "code",
   "execution_count": 3,
   "metadata": {},
   "outputs": [],
   "source": [
    "def get_data(coin = 'bitcoin', year = 2017):\n",
    "    \n",
    "    df = pd.read_csv(f'./data/{coin}_{year}.csv')\n",
    "    df['timestamp'] = pd.to_datetime(df['timestamp'], unit = 's')\n",
    "    df.set_index('timestamp', inplace = True)\n",
    "    df.sort_index(inplace = True)\n",
    "    df = df[['Count','Open','High','Low','Close','Volume','VWAP','Target']]\n",
    "    \n",
    "    return df"
   ]
  },
  {
   "cell_type": "code",
   "execution_count": 4,
   "metadata": {},
   "outputs": [],
   "source": [
    "btc2017 = get_data()\n",
    "btc2018 = get_data('bitcoin', 2018)\n",
    "btc2019 = get_data('bitcoin', 2019)\n",
    "btc2020 = get_data('bitcoin', 2020)\n",
    "btc2021 = get_data('bitcoin', 2021)"
   ]
  },
  {
   "cell_type": "code",
   "execution_count": 5,
   "metadata": {},
   "outputs": [],
   "source": [
    "btc = pd.concat([btc2017, btc2018, btc2019, btc2020, btc2021], axis = 0)"
   ]
  },
  {
   "cell_type": "code",
   "execution_count": 6,
   "metadata": {},
   "outputs": [],
   "source": [
    "def resample(df, time_period = '1D'):\n",
    "    df = df.resample(time_period).first()\n",
    "    return df"
   ]
  },
  {
   "cell_type": "code",
   "execution_count": 7,
   "metadata": {},
   "outputs": [],
   "source": [
    "def add_cols(df, momentum = 7, volatility = 30, sma = 50):\n",
    "    \n",
    "    df['diff'] = df['Close'] - df['Close'].shift(1)\n",
    "    df['log_close'] = np.log(df['Close'])\n",
    "    df['log_diff'] = df['log_close'] - df['log_close'].shift(1)\n",
    "    df['log_return'] = np.log(df['Close'] / df['Close'].shift(1))\n",
    "    df['direction'] = np.where(df['log_return'] > 0, 1, 0)\n",
    "    df['momentum'] = df['log_return'].rolling(momentum).mean().shift(1)\n",
    "    df['volatility'] = df['log_return'].rolling(volatility).std().shift(1)\n",
    "    df['sma_7'] = df['Close'].rolling(7).mean()\n",
    "    df['sma_50'] = df['Close'].rolling(50).mean()\n",
    "    df['sma_200'] = df['Close'].rolling(200).mean()\n",
    "    sma_distance = f'sma_{sma}'\n",
    "    df[sma_distance] = (df['Close'] - df['Close'].rolling(sma).mean()).shift(1)\n",
    "    df['log_sqrt_close'] = np.sqrt(df['log_close'])\n",
    "    \n",
    "    df = df[df['Close'].notna()]\n",
    "    \n",
    "    return df"
   ]
  },
  {
   "cell_type": "code",
   "execution_count": 8,
   "metadata": {},
   "outputs": [],
   "source": [
    "daily = resample(btc)\n",
    "weekly = resample(btc, '1W')\n",
    "monthly = resample(btc, '1M')"
   ]
  },
  {
   "cell_type": "code",
   "execution_count": 9,
   "metadata": {},
   "outputs": [],
   "source": [
    "daily = add_cols(daily)\n",
    "weekly = add_cols(weekly, momentum = 1, volatility = 4, sma = 7)"
   ]
  },
  {
   "cell_type": "code",
   "execution_count": 10,
   "metadata": {},
   "outputs": [
    {
     "name": "stdout",
     "output_type": "stream",
     "text": [
      "<class 'pandas.core.frame.DataFrame'>\n",
      "DatetimeIndex: 1577 entries, 2017-08-17 to 2021-12-22\n",
      "Data columns (total 19 columns):\n",
      " #   Column          Non-Null Count  Dtype  \n",
      "---  ------          --------------  -----  \n",
      " 0   Count           1577 non-null   float64\n",
      " 1   Open            1577 non-null   float64\n",
      " 2   High            1577 non-null   float64\n",
      " 3   Low             1577 non-null   float64\n",
      " 4   Close           1577 non-null   float64\n",
      " 5   Volume          1577 non-null   float64\n",
      " 6   VWAP            1577 non-null   float64\n",
      " 7   Target          1577 non-null   float64\n",
      " 8   diff            1575 non-null   float64\n",
      " 9   log_close       1577 non-null   float64\n",
      " 10  log_diff        1575 non-null   float64\n",
      " 11  log_return      1575 non-null   float64\n",
      " 12  direction       1577 non-null   int32  \n",
      " 13  momentum        1561 non-null   float64\n",
      " 14  volatility      1515 non-null   float64\n",
      " 15  sma_7           1565 non-null   float64\n",
      " 16  sma_50          1477 non-null   float64\n",
      " 17  sma_200         1268 non-null   float64\n",
      " 18  log_sqrt_close  1577 non-null   float64\n",
      "dtypes: float64(18), int32(1)\n",
      "memory usage: 240.2 KB\n"
     ]
    }
   ],
   "source": [
    "daily.info()"
   ]
  },
  {
   "cell_type": "code",
   "execution_count": 11,
   "metadata": {},
   "outputs": [
    {
     "name": "stdout",
     "output_type": "stream",
     "text": [
      "<class 'pandas.core.frame.DataFrame'>\n",
      "DatetimeIndex: 228 entries, 2017-08-20 to 2021-12-26\n",
      "Freq: W-SUN\n",
      "Data columns (total 19 columns):\n",
      " #   Column          Non-Null Count  Dtype  \n",
      "---  ------          --------------  -----  \n",
      " 0   Count           228 non-null    float64\n",
      " 1   Open            228 non-null    float64\n",
      " 2   High            228 non-null    float64\n",
      " 3   Low             228 non-null    float64\n",
      " 4   Close           228 non-null    float64\n",
      " 5   Volume          228 non-null    float64\n",
      " 6   VWAP            228 non-null    float64\n",
      " 7   Target          228 non-null    float64\n",
      " 8   diff            227 non-null    float64\n",
      " 9   log_close       228 non-null    float64\n",
      " 10  log_diff        227 non-null    float64\n",
      " 11  log_return      227 non-null    float64\n",
      " 12  direction       228 non-null    int32  \n",
      " 13  momentum        226 non-null    float64\n",
      " 14  volatility      223 non-null    float64\n",
      " 15  sma_7           221 non-null    float64\n",
      " 16  sma_50          179 non-null    float64\n",
      " 17  sma_200         29 non-null     float64\n",
      " 18  log_sqrt_close  228 non-null    float64\n",
      "dtypes: float64(18), int32(1)\n",
      "memory usage: 34.7 KB\n"
     ]
    }
   ],
   "source": [
    "weekly.info()"
   ]
  },
  {
   "cell_type": "code",
   "execution_count": null,
   "metadata": {},
   "outputs": [],
   "source": [
    "def create_lags(df, lags = 7):\n",
    "    \n",
    "    for i in range(1, lags+1):\n",
    "        col_name = f'lag_{i}'\n",
    "        df[col_name] = df['log_return'].shift(i)\n",
    "    df.dropna(inplace = True)\n",
    "        \n",
    "    return df"
   ]
  },
  {
   "cell_type": "code",
   "execution_count": null,
   "metadata": {},
   "outputs": [],
   "source": [
    "def simple_moving_average(df, windows = [7,50,200]):\n",
    "    for i in windows:\n",
    "        col = f'sma_{i}'\n",
    "        df[col] = df['Close'].rolling(i, min_periods = int(i*.75)).mean()\n",
    "        df[col].plot(figsize = (40,10), legend = True, subplots = False)\n",
    "    \n",
    "    df['Close'].plot(legend = True);\n",
    "    return df"
   ]
  },
  {
   "cell_type": "code",
   "execution_count": null,
   "metadata": {},
   "outputs": [],
   "source": [
    "periods = [1,3,7,30,365]\n",
    "model = ['multiplicative', 'additive']\n",
    "\n",
    "combinations = []\n",
    "for x in periods:\n",
    "    for y in model:\n",
    "        combinations.append((x,y))\n",
    "\n",
    "print(combinations)"
   ]
  },
  {
   "cell_type": "code",
   "execution_count": null,
   "metadata": {},
   "outputs": [],
   "source": [
    "def decomposition_plot(ts):\n",
    "        '''Takes time series dataframe and decompose it in order to observe trend, seasonality, and residuals'''\n",
    "        decomposition = tsa.seasonal_decompose(ts, period = 3)\n",
    "        trend = decomposition.trend\n",
    "        seasonal = decomposition.seasonal\n",
    "        residual = decomposition.resid\n",
    "        plt.figure(figsize=(10,7))\n",
    "        plt.subplot(511)\n",
    "        plt.plot(ts, label='Original', color='red')\n",
    "        plt.legend(loc='best')\n",
    "        plt.subplot(512)\n",
    "        plt.plot(trend, label='Trend', color='orange')\n",
    "        plt.legend(loc='best')\n",
    "        plt.subplot(513)\n",
    "        plt.plot(seasonal,label='Seasonality', color='green')\n",
    "        plt.legend(loc='best')\n",
    "        plt.subplot(514)\n",
    "        plt.plot(residual, label='Residuals', color='black')\n",
    "        plt.legend(loc='best')\n",
    "        plt.tight_layout()"
   ]
  },
  {
   "cell_type": "code",
   "execution_count": null,
   "metadata": {},
   "outputs": [],
   "source": [
    "def best_combinations(df):\n",
    "    \n",
    "    adfullercombinations = []\n",
    "\n",
    "    for i in combinations:\n",
    "        components = tsa.seasonal_decompose(df, period = i[0], model = i[1])\n",
    "        residuals = components.resid\n",
    "        \n",
    "        if len(residuals.unique()) > 1:\n",
    "            adfullercombinations.append([adfuller(residuals)[1],i])\n",
    "            \n",
    "    best = min(adfullercombinations)\n",
    "    return (best[1][1], best[1][0])"
   ]
  },
  {
   "cell_type": "code",
   "execution_count": null,
   "metadata": {},
   "outputs": [],
   "source": [
    "x = tsa.seasonal_decompose(daily['log_close'], period = 3, model = 'multiplicative')\n",
    "x.resid"
   ]
  },
  {
   "cell_type": "code",
   "execution_count": null,
   "metadata": {},
   "outputs": [],
   "source": [
    "pd.plotting.autocorrelation_plot(x.resid);"
   ]
  },
  {
   "cell_type": "code",
   "execution_count": null,
   "metadata": {},
   "outputs": [],
   "source": [
    "pd.plotting.autocorrelation_plot(daily['Close']);"
   ]
  },
  {
   "cell_type": "code",
   "execution_count": null,
   "metadata": {},
   "outputs": [],
   "source": [
    "pd.plotting.autocorrelation_plot(daily['log_close']);"
   ]
  },
  {
   "cell_type": "code",
   "execution_count": null,
   "metadata": {},
   "outputs": [],
   "source": [
    "from statsmodels.graphics.tsaplots import plot_pacf\n",
    "from matplotlib.pylab import rcParams\n",
    "\n",
    "rcParams['figure.figsize'] = 14, 5\n",
    "\n",
    "plot_pacf(daily['log_close']);\n",
    "plot_acf(daily['log_close']);"
   ]
  },
  {
   "cell_type": "code",
   "execution_count": null,
   "metadata": {},
   "outputs": [],
   "source": [
    "mod_arma = ARMA(x.resid.dropna(), order=(1,0))"
   ]
  },
  {
   "cell_type": "code",
   "execution_count": null,
   "metadata": {},
   "outputs": [],
   "source": [
    "res_arma = mod_arma.fit()"
   ]
  },
  {
   "cell_type": "code",
   "execution_count": null,
   "metadata": {},
   "outputs": [],
   "source": [
    "print(res_arma.summary())"
   ]
  },
  {
   "cell_type": "code",
   "execution_count": null,
   "metadata": {},
   "outputs": [],
   "source": [
    "mod2_arma = ARMA(x.resid.dropna(), order=(0,1))\n",
    "res2_arma = mod2_arma.fit()\n",
    "print(res2_arma.summary())"
   ]
  },
  {
   "cell_type": "code",
   "execution_count": null,
   "metadata": {},
   "outputs": [],
   "source": []
  },
  {
   "cell_type": "code",
   "execution_count": null,
   "metadata": {},
   "outputs": [],
   "source": []
  },
  {
   "cell_type": "code",
   "execution_count": null,
   "metadata": {},
   "outputs": [],
   "source": []
  }
 ],
 "metadata": {
  "kernelspec": {
   "display_name": "Python 3",
   "language": "python",
   "name": "python3"
  },
  "language_info": {
   "codemirror_mode": {
    "name": "ipython",
    "version": 3
   },
   "file_extension": ".py",
   "mimetype": "text/x-python",
   "name": "python",
   "nbconvert_exporter": "python",
   "pygments_lexer": "ipython3",
   "version": "3.8.5"
  }
 },
 "nbformat": 4,
 "nbformat_minor": 4
}
